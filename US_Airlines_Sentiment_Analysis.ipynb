{
 "cells": [
  {
   "cell_type": "markdown",
   "metadata": {
    "id": "71DMBkzm1eJo"
   },
   "source": [
    "##Context:\n",
    "Twitter posses 330 million monthly active users, which allows businesses to reach a broad population and connect with customers without intermediaries. On the other side, there’s so much information that it’s difficult for brands to quickly detect negative social mentions that could harm their business.\n",
    "\n",
    "That's why sentiment analysis/classification, which involves monitoring emotions in conversations on social media platforms, has become a key strategy in social media marketing.\n",
    "\n",
    "Listening to how customers feel about the product/services on Twitter allows companies to understand their audience, keep on top of what’s being said about their brand, and their competitors, and discover new trends in the industry.\n",
    " \n",
    "##Data Description:\n",
    "\n",
    "A sentiment analysis job about the problems of each major U.S. airline. Twitter data was scraped from February of 2015 and contributors were asked to first classify positive, negative, and neutral tweets, followed by categorizing negative reasons (such as \"late flight\" or \"rude service\").\n",
    "\n",
    " \n",
    "Dataset:\n",
    "\n",
    "The dataset has the following columns:\n",
    "\n",
    "tweet_id                                                           \n",
    "airline_sentiment                                               \n",
    "airline_sentiment_confidence                               \n",
    "negativereason                                                   \n",
    "negativereason_confidence                                    \n",
    "airline                                                                    \n",
    "airline_sentiment_gold                                              \n",
    "name     \n",
    "negativereason_gold \n",
    "retweet_count\n",
    "text\n",
    "tweet_coord\n",
    "tweet_created\n",
    "tweet_location \n",
    "user_timezone"
   ]
  },
  {
   "cell_type": "code",
   "execution_count": null,
   "metadata": {
    "colab": {
     "base_uri": "https://localhost:8080/"
    },
    "id": "gTH4e5fTaMVA",
    "outputId": "d273cd90-49cd-42f9-8259-9ef75a7c053c"
   },
   "outputs": [
    {
     "name": "stdout",
     "output_type": "stream",
     "text": [
      "Collecting contractions\n",
      "  Downloading https://files.pythonhosted.org/packages/93/f4/0ec4a458e4368cc3be2c799411ecf0bc961930e566dadb9624563821b3a6/contractions-0.0.52-py2.py3-none-any.whl\n",
      "Collecting textsearch>=0.0.21\n",
      "  Downloading https://files.pythonhosted.org/packages/d3/fe/021d7d76961b5ceb9f8d022c4138461d83beff36c3938dc424586085e559/textsearch-0.0.21-py2.py3-none-any.whl\n",
      "Collecting anyascii\n",
      "\u001b[?25l  Downloading https://files.pythonhosted.org/packages/a3/14/666cd44bf53f36a961544af592cb5c5c800013f9c51a4745af8d7c17362a/anyascii-0.2.0-py3-none-any.whl (283kB)\n",
      "\u001b[K     |████████████████████████████████| 286kB 27.3MB/s \n",
      "\u001b[?25hCollecting pyahocorasick\n",
      "\u001b[?25l  Downloading https://files.pythonhosted.org/packages/7f/c2/eae730037ae1cbbfaa229d27030d1d5e34a1e41114b21447d1202ae9c220/pyahocorasick-1.4.2.tar.gz (321kB)\n",
      "\u001b[K     |████████████████████████████████| 327kB 49.8MB/s \n",
      "\u001b[?25hBuilding wheels for collected packages: pyahocorasick\n",
      "  Building wheel for pyahocorasick (setup.py) ... \u001b[?25l\u001b[?25hdone\n",
      "  Created wheel for pyahocorasick: filename=pyahocorasick-1.4.2-cp37-cp37m-linux_x86_64.whl size=85390 sha256=0421c79c50d719e86a1bb4581b3df49737a731676605d25f1f4e07b056114734\n",
      "  Stored in directory: /root/.cache/pip/wheels/3a/03/34/77e3ece0bba8b86bfac88a79f923b36d805cad63caeba38842\n",
      "Successfully built pyahocorasick\n",
      "Installing collected packages: anyascii, pyahocorasick, textsearch, contractions\n",
      "Successfully installed anyascii-0.2.0 contractions-0.0.52 pyahocorasick-1.4.2 textsearch-0.0.21\n"
     ]
    }
   ],
   "source": [
    "!pip install contractions"
   ]
  },
  {
   "cell_type": "code",
   "execution_count": null,
   "metadata": {
    "colab": {
     "base_uri": "https://localhost:8080/"
    },
    "id": "8KZ14rbJGzWz",
    "outputId": "6b2961cb-2bac-4e0e-f19e-5010ca390891"
   },
   "outputs": [
    {
     "name": "stdout",
     "output_type": "stream",
     "text": [
      "[nltk_data] Downloading package stopwords to /root/nltk_data...\n",
      "[nltk_data]   Unzipping corpora/stopwords.zip.\n",
      "[nltk_data] Downloading package punkt to /root/nltk_data...\n",
      "[nltk_data]   Unzipping tokenizers/punkt.zip.\n",
      "[nltk_data] Downloading package wordnet to /root/nltk_data...\n",
      "[nltk_data]   Unzipping corpora/wordnet.zip.\n"
     ]
    }
   ],
   "source": [
    "# Importing required libraries.\n",
    "import warnings\n",
    "warnings.filterwarnings(\"ignore\")\n",
    "import seaborn as sns\n",
    "import matplotlib.pyplot as plt \n",
    "%matplotlib inline\n",
    "import re, string, unicodedata                          # Import Regex, string and unicodedata.\n",
    "import contractions                                     # Import contractions library.\n",
    "from bs4 import BeautifulSoup                           # Import BeautifulSoup.\n",
    "\n",
    "import numpy as np                                      # Import numpy.\n",
    "import pandas as pd                                     # Import pandas.\n",
    "import nltk                                             # Import Natural Language Tool-Kit.\n",
    "\n",
    "nltk.download('stopwords')                              # Download Stopwords.\n",
    "nltk.download('punkt')\n",
    "nltk.download('wordnet')\n",
    "\n",
    "from nltk.corpus import stopwords                       # Import stopwords.\n",
    "from nltk.tokenize import word_tokenize, sent_tokenize  # Import Tokenizer.\n",
    "from nltk.stem.wordnet import WordNetLemmatizer         # Import Lemmatizer.\n",
    "from sklearn.feature_extraction.text import CountVectorizer\n",
    "from sklearn.feature_extraction.text import TfidfVectorizer\n",
    "from sklearn.model_selection import train_test_split\n",
    "from sklearn.ensemble import RandomForestClassifier\n",
    "from sklearn.model_selection import cross_val_score\n",
    "from sklearn.preprocessing import StandardScaler\n",
    "from sklearn.model_selection import GridSearchCV, RandomizedSearchCV\n",
    "from sklearn import metrics\n",
    "from sklearn.metrics import confusion_matrix"
   ]
  },
  {
   "cell_type": "code",
   "execution_count": null,
   "metadata": {
    "id": "CoGUuIGvHE2D"
   },
   "outputs": [],
   "source": [
    "# Importing data from Tweets Csv file\n",
    "smidata = pd.read_csv('/content/sample_data/Tweets.csv')"
   ]
  },
  {
   "cell_type": "code",
   "execution_count": null,
   "metadata": {
    "colab": {
     "base_uri": "https://localhost:8080/"
    },
    "id": "Ek6dq5oxJvtB",
    "outputId": "46688ffb-dfb1-4adc-ff9a-79ed33a01edf"
   },
   "outputs": [
    {
     "data": {
      "text/plain": [
       "(14640, 15)"
      ]
     },
     "execution_count": 4,
     "metadata": {
      "tags": []
     },
     "output_type": "execute_result"
    }
   ],
   "source": [
    "# Printing shape of the data\n",
    "smidata.shape    "
   ]
  },
  {
   "cell_type": "code",
   "execution_count": null,
   "metadata": {
    "colab": {
     "base_uri": "https://localhost:8080/",
     "height": 444
    },
    "id": "H28VGETvQ4PX",
    "outputId": "172b7980-59f2-4c2e-9551-210b06f2aad0"
   },
   "outputs": [
    {
     "data": {
      "text/html": [
       "<div>\n",
       "<style scoped>\n",
       "    .dataframe tbody tr th:only-of-type {\n",
       "        vertical-align: middle;\n",
       "    }\n",
       "\n",
       "    .dataframe tbody tr th {\n",
       "        vertical-align: top;\n",
       "    }\n",
       "\n",
       "    .dataframe thead th {\n",
       "        text-align: right;\n",
       "    }\n",
       "</style>\n",
       "<table border=\"1\" class=\"dataframe\">\n",
       "  <thead>\n",
       "    <tr style=\"text-align: right;\">\n",
       "      <th></th>\n",
       "      <th>tweet_id</th>\n",
       "      <th>airline_sentiment</th>\n",
       "      <th>airline_sentiment_confidence</th>\n",
       "      <th>negativereason</th>\n",
       "      <th>negativereason_confidence</th>\n",
       "      <th>airline</th>\n",
       "      <th>airline_sentiment_gold</th>\n",
       "      <th>name</th>\n",
       "      <th>negativereason_gold</th>\n",
       "      <th>retweet_count</th>\n",
       "      <th>text</th>\n",
       "      <th>tweet_coord</th>\n",
       "      <th>tweet_created</th>\n",
       "      <th>tweet_location</th>\n",
       "      <th>user_timezone</th>\n",
       "    </tr>\n",
       "  </thead>\n",
       "  <tbody>\n",
       "    <tr>\n",
       "      <th>0</th>\n",
       "      <td>570306133677760513</td>\n",
       "      <td>neutral</td>\n",
       "      <td>1.0000</td>\n",
       "      <td>NaN</td>\n",
       "      <td>NaN</td>\n",
       "      <td>Virgin America</td>\n",
       "      <td>NaN</td>\n",
       "      <td>cairdin</td>\n",
       "      <td>NaN</td>\n",
       "      <td>0</td>\n",
       "      <td>@VirginAmerica What @dhepburn said.</td>\n",
       "      <td>NaN</td>\n",
       "      <td>2015-02-24 11:35:52 -0800</td>\n",
       "      <td>NaN</td>\n",
       "      <td>Eastern Time (US &amp; Canada)</td>\n",
       "    </tr>\n",
       "    <tr>\n",
       "      <th>1</th>\n",
       "      <td>570301130888122368</td>\n",
       "      <td>positive</td>\n",
       "      <td>0.3486</td>\n",
       "      <td>NaN</td>\n",
       "      <td>0.0000</td>\n",
       "      <td>Virgin America</td>\n",
       "      <td>NaN</td>\n",
       "      <td>jnardino</td>\n",
       "      <td>NaN</td>\n",
       "      <td>0</td>\n",
       "      <td>@VirginAmerica plus you've added commercials t...</td>\n",
       "      <td>NaN</td>\n",
       "      <td>2015-02-24 11:15:59 -0800</td>\n",
       "      <td>NaN</td>\n",
       "      <td>Pacific Time (US &amp; Canada)</td>\n",
       "    </tr>\n",
       "    <tr>\n",
       "      <th>2</th>\n",
       "      <td>570301083672813571</td>\n",
       "      <td>neutral</td>\n",
       "      <td>0.6837</td>\n",
       "      <td>NaN</td>\n",
       "      <td>NaN</td>\n",
       "      <td>Virgin America</td>\n",
       "      <td>NaN</td>\n",
       "      <td>yvonnalynn</td>\n",
       "      <td>NaN</td>\n",
       "      <td>0</td>\n",
       "      <td>@VirginAmerica I didn't today... Must mean I n...</td>\n",
       "      <td>NaN</td>\n",
       "      <td>2015-02-24 11:15:48 -0800</td>\n",
       "      <td>Lets Play</td>\n",
       "      <td>Central Time (US &amp; Canada)</td>\n",
       "    </tr>\n",
       "    <tr>\n",
       "      <th>3</th>\n",
       "      <td>570301031407624196</td>\n",
       "      <td>negative</td>\n",
       "      <td>1.0000</td>\n",
       "      <td>Bad Flight</td>\n",
       "      <td>0.7033</td>\n",
       "      <td>Virgin America</td>\n",
       "      <td>NaN</td>\n",
       "      <td>jnardino</td>\n",
       "      <td>NaN</td>\n",
       "      <td>0</td>\n",
       "      <td>@VirginAmerica it's really aggressive to blast...</td>\n",
       "      <td>NaN</td>\n",
       "      <td>2015-02-24 11:15:36 -0800</td>\n",
       "      <td>NaN</td>\n",
       "      <td>Pacific Time (US &amp; Canada)</td>\n",
       "    </tr>\n",
       "    <tr>\n",
       "      <th>4</th>\n",
       "      <td>570300817074462722</td>\n",
       "      <td>negative</td>\n",
       "      <td>1.0000</td>\n",
       "      <td>Can't Tell</td>\n",
       "      <td>1.0000</td>\n",
       "      <td>Virgin America</td>\n",
       "      <td>NaN</td>\n",
       "      <td>jnardino</td>\n",
       "      <td>NaN</td>\n",
       "      <td>0</td>\n",
       "      <td>@VirginAmerica and it's a really big bad thing...</td>\n",
       "      <td>NaN</td>\n",
       "      <td>2015-02-24 11:14:45 -0800</td>\n",
       "      <td>NaN</td>\n",
       "      <td>Pacific Time (US &amp; Canada)</td>\n",
       "    </tr>\n",
       "  </tbody>\n",
       "</table>\n",
       "</div>"
      ],
      "text/plain": [
       "             tweet_id  ...               user_timezone\n",
       "0  570306133677760513  ...  Eastern Time (US & Canada)\n",
       "1  570301130888122368  ...  Pacific Time (US & Canada)\n",
       "2  570301083672813571  ...  Central Time (US & Canada)\n",
       "3  570301031407624196  ...  Pacific Time (US & Canada)\n",
       "4  570300817074462722  ...  Pacific Time (US & Canada)\n",
       "\n",
       "[5 rows x 15 columns]"
      ]
     },
     "execution_count": 5,
     "metadata": {
      "tags": []
     },
     "output_type": "execute_result"
    }
   ],
   "source": [
    "smidata.head(5)"
   ]
  },
  {
   "cell_type": "code",
   "execution_count": null,
   "metadata": {
    "colab": {
     "base_uri": "https://localhost:8080/"
    },
    "id": "7MgGTuONLNHm",
    "outputId": "9092c52d-916c-483d-afbb-085c893b6446"
   },
   "outputs": [
    {
     "name": "stdout",
     "output_type": "stream",
     "text": [
      "<class 'pandas.core.frame.DataFrame'>\n",
      "RangeIndex: 14640 entries, 0 to 14639\n",
      "Data columns (total 15 columns):\n",
      " #   Column                        Non-Null Count  Dtype  \n",
      "---  ------                        --------------  -----  \n",
      " 0   tweet_id                      14640 non-null  int64  \n",
      " 1   airline_sentiment             14640 non-null  object \n",
      " 2   airline_sentiment_confidence  14640 non-null  float64\n",
      " 3   negativereason                9178 non-null   object \n",
      " 4   negativereason_confidence     10522 non-null  float64\n",
      " 5   airline                       14640 non-null  object \n",
      " 6   airline_sentiment_gold        40 non-null     object \n",
      " 7   name                          14640 non-null  object \n",
      " 8   negativereason_gold           32 non-null     object \n",
      " 9   retweet_count                 14640 non-null  int64  \n",
      " 10  text                          14640 non-null  object \n",
      " 11  tweet_coord                   1019 non-null   object \n",
      " 12  tweet_created                 14640 non-null  object \n",
      " 13  tweet_location                9907 non-null   object \n",
      " 14  user_timezone                 9820 non-null   object \n",
      "dtypes: float64(2), int64(2), object(11)\n",
      "memory usage: 1.7+ MB\n"
     ]
    }
   ],
   "source": [
    "smidata.info()"
   ]
  },
  {
   "cell_type": "markdown",
   "metadata": {
    "id": "CEY80EhALieP"
   },
   "source": [
    "*  Dataset has 15 columns with 14640 records.\n",
    "*  tweet_id, airline_sentiment, arilinesentiment_confidence, retweet_count and text column values are populated for all the records.\n",
    "*  Our focus is on text and airline sentiment to perform the sentiment analysis and remaining columns will be dopped by creating a new pandas dataframe.\n",
    "* text and tweet column values are populated for all the records.\n",
    "\n",
    "\n",
    "\n",
    "\n"
   ]
  },
  {
   "cell_type": "code",
   "execution_count": null,
   "metadata": {
    "id": "c9BK6uEnPgDR"
   },
   "outputs": [],
   "source": [
    "# New data from smdata by removing other irrelevent fields to build the model.\n",
    "smdata = smidata.loc[:,['airline_sentiment','text']]"
   ]
  },
  {
   "cell_type": "code",
   "execution_count": null,
   "metadata": {
    "colab": {
     "base_uri": "https://localhost:8080/"
    },
    "id": "aqkdJLu-S0uF",
    "outputId": "68b22573-7f42-4a45-a699-3824958c955a"
   },
   "outputs": [
    {
     "name": "stdout",
     "output_type": "stream",
     "text": [
      "<class 'pandas.core.frame.DataFrame'>\n",
      "RangeIndex: 14640 entries, 0 to 14639\n",
      "Data columns (total 2 columns):\n",
      " #   Column             Non-Null Count  Dtype \n",
      "---  ------             --------------  ----- \n",
      " 0   airline_sentiment  14640 non-null  object\n",
      " 1   text               14640 non-null  object\n",
      "dtypes: object(2)\n",
      "memory usage: 228.9+ KB\n"
     ]
    }
   ],
   "source": [
    "smdata.info()"
   ]
  },
  {
   "cell_type": "code",
   "execution_count": null,
   "metadata": {
    "colab": {
     "base_uri": "https://localhost:8080/"
    },
    "id": "P4_0E7_KamJz",
    "outputId": "89ac2920-f8be-4220-d4a7-c70fc5f9b0c8"
   },
   "outputs": [
    {
     "data": {
      "text/plain": [
       "(14640, 2)"
      ]
     },
     "execution_count": 9,
     "metadata": {
      "tags": []
     },
     "output_type": "execute_result"
    }
   ],
   "source": [
    "# Printing shape of the data  \n",
    "smdata.shape   "
   ]
  },
  {
   "cell_type": "code",
   "execution_count": null,
   "metadata": {
    "colab": {
     "base_uri": "https://localhost:8080/",
     "height": 220
    },
    "id": "L7Dmr5qWJ6Wq",
    "outputId": "def4dca7-3ab9-48d5-fe34-c594e8938f5f"
   },
   "outputs": [
    {
     "data": {
      "text/html": [
       "<div>\n",
       "<style scoped>\n",
       "    .dataframe tbody tr th:only-of-type {\n",
       "        vertical-align: middle;\n",
       "    }\n",
       "\n",
       "    .dataframe tbody tr th {\n",
       "        vertical-align: top;\n",
       "    }\n",
       "\n",
       "    .dataframe thead th {\n",
       "        text-align: right;\n",
       "    }\n",
       "</style>\n",
       "<table border=\"1\" class=\"dataframe\">\n",
       "  <thead>\n",
       "    <tr style=\"text-align: right;\">\n",
       "      <th></th>\n",
       "      <th>airline_sentiment</th>\n",
       "      <th>text</th>\n",
       "    </tr>\n",
       "  </thead>\n",
       "  <tbody>\n",
       "    <tr>\n",
       "      <th>0</th>\n",
       "      <td>neutral</td>\n",
       "      <td>@VirginAmerica What @dhepburn said.</td>\n",
       "    </tr>\n",
       "    <tr>\n",
       "      <th>1</th>\n",
       "      <td>positive</td>\n",
       "      <td>@VirginAmerica plus you've added commercials to the experience... tacky.</td>\n",
       "    </tr>\n",
       "    <tr>\n",
       "      <th>2</th>\n",
       "      <td>neutral</td>\n",
       "      <td>@VirginAmerica I didn't today... Must mean I need to take another trip!</td>\n",
       "    </tr>\n",
       "    <tr>\n",
       "      <th>3</th>\n",
       "      <td>negative</td>\n",
       "      <td>@VirginAmerica it's really aggressive to blast obnoxious \"entertainment\" in your guests' faces &amp;amp; they have little recourse</td>\n",
       "    </tr>\n",
       "    <tr>\n",
       "      <th>4</th>\n",
       "      <td>negative</td>\n",
       "      <td>@VirginAmerica and it's a really big bad thing about it</td>\n",
       "    </tr>\n",
       "  </tbody>\n",
       "</table>\n",
       "</div>"
      ],
      "text/plain": [
       "  airline_sentiment                                                                                                                            text\n",
       "0           neutral                                                                                             @VirginAmerica What @dhepburn said.\n",
       "1          positive                                                        @VirginAmerica plus you've added commercials to the experience... tacky.\n",
       "2           neutral                                                         @VirginAmerica I didn't today... Must mean I need to take another trip!\n",
       "3          negative  @VirginAmerica it's really aggressive to blast obnoxious \"entertainment\" in your guests' faces &amp; they have little recourse\n",
       "4          negative                                                                         @VirginAmerica and it's a really big bad thing about it"
      ]
     },
     "execution_count": 11,
     "metadata": {
      "tags": []
     },
     "output_type": "execute_result"
    }
   ],
   "source": [
    "pd.set_option(\"display.max_colwidth\", None)\n",
    "smdata.head() # Printing first 5 rows   "
   ]
  },
  {
   "cell_type": "code",
   "execution_count": null,
   "metadata": {
    "colab": {
     "base_uri": "https://localhost:8080/",
     "height": 236
    },
    "id": "g1CN1VhwLDah",
    "outputId": "01953e85-8381-4bc4-9da4-c2ac2d113e5c"
   },
   "outputs": [
    {
     "data": {
      "image/png": "[encoded data removed]",
      "text/plain": [
       "<Figure size 1800x504 with 1 Axes>"
      ]
     },
     "metadata": {
      "tags": []
     },
     "output_type": "display_data"
    }
   ],
   "source": [
    " # Checking Unique values for airline_sentiment\n",
    " sns.set(rc={'figure.figsize':(25,7)})\n",
    " ax=sns.countplot(x='airline_sentiment', data=smdata)"
   ]
  },
  {
   "cell_type": "markdown",
   "metadata": {
    "id": "0iqXwRmwcVyv"
   },
   "source": [
    " Data file has three types of sentiments nuetral, positive and negative and 9000+ records are classified under negative review."
   ]
  },
  {
   "cell_type": "markdown",
   "metadata": {
    "id": "L_tOa_wRdTym"
   },
   "source": [
    "## Text Pre-processing"
   ]
  },
  {
   "cell_type": "code",
   "execution_count": null,
   "metadata": {
    "colab": {
     "base_uri": "https://localhost:8080/",
     "height": 220
    },
    "id": "abRn63SseWJ9",
    "outputId": "221a803c-d9bb-4a54-f2bd-986a85fdec30"
   },
   "outputs": [
    {
     "data": {
      "text/html": [
       "<div>\n",
       "<style scoped>\n",
       "    .dataframe tbody tr th:only-of-type {\n",
       "        vertical-align: middle;\n",
       "    }\n",
       "\n",
       "    .dataframe tbody tr th {\n",
       "        vertical-align: top;\n",
       "    }\n",
       "\n",
       "    .dataframe thead th {\n",
       "        text-align: right;\n",
       "    }\n",
       "</style>\n",
       "<table border=\"1\" class=\"dataframe\">\n",
       "  <thead>\n",
       "    <tr style=\"text-align: right;\">\n",
       "      <th></th>\n",
       "      <th>airline_sentiment</th>\n",
       "      <th>text</th>\n",
       "    </tr>\n",
       "  </thead>\n",
       "  <tbody>\n",
       "    <tr>\n",
       "      <th>0</th>\n",
       "      <td>neutral</td>\n",
       "      <td>@VirginAmerica What @dhepburn said.</td>\n",
       "    </tr>\n",
       "    <tr>\n",
       "      <th>1</th>\n",
       "      <td>positive</td>\n",
       "      <td>@VirginAmerica plus you've added commercials to the experience... tacky.</td>\n",
       "    </tr>\n",
       "    <tr>\n",
       "      <th>2</th>\n",
       "      <td>neutral</td>\n",
       "      <td>@VirginAmerica I didn't today... Must mean I need to take another trip!</td>\n",
       "    </tr>\n",
       "    <tr>\n",
       "      <th>3</th>\n",
       "      <td>negative</td>\n",
       "      <td>@VirginAmerica it's really aggressive to blast obnoxious \"entertainment\" in your guests' faces &amp; they have little recourse</td>\n",
       "    </tr>\n",
       "    <tr>\n",
       "      <th>4</th>\n",
       "      <td>negative</td>\n",
       "      <td>@VirginAmerica and it's a really big bad thing about it</td>\n",
       "    </tr>\n",
       "  </tbody>\n",
       "</table>\n",
       "</div>"
      ],
      "text/plain": [
       "  airline_sentiment                                                                                                                        text\n",
       "0           neutral                                                                                         @VirginAmerica What @dhepburn said.\n",
       "1          positive                                                    @VirginAmerica plus you've added commercials to the experience... tacky.\n",
       "2           neutral                                                     @VirginAmerica I didn't today... Must mean I need to take another trip!\n",
       "3          negative  @VirginAmerica it's really aggressive to blast obnoxious \"entertainment\" in your guests' faces & they have little recourse\n",
       "4          negative                                                                     @VirginAmerica and it's a really big bad thing about it"
      ]
     },
     "execution_count": 13,
     "metadata": {
      "tags": []
     },
     "output_type": "execute_result"
    }
   ],
   "source": [
    "# HTML Tag removals from the text field\n",
    "def strip_html(text):\n",
    "    soup = BeautifulSoup(text, \"html.parser\")\n",
    "    return soup.get_text()\n",
    "\n",
    "smdata['text'] = smdata['text'].apply(lambda x: strip_html(x))\n",
    "smdata.head()"
   ]
  },
  {
   "cell_type": "code",
   "execution_count": null,
   "metadata": {
    "colab": {
     "base_uri": "https://localhost:8080/",
     "height": 254
    },
    "id": "t-GsJYuGMVtC",
    "outputId": "1fa4a8fc-5167-4d40-999a-412053e0db1f"
   },
   "outputs": [
    {
     "data": {
      "text/html": [
       "<div>\n",
       "<style scoped>\n",
       "    .dataframe tbody tr th:only-of-type {\n",
       "        vertical-align: middle;\n",
       "    }\n",
       "\n",
       "    .dataframe tbody tr th {\n",
       "        vertical-align: top;\n",
       "    }\n",
       "\n",
       "    .dataframe thead th {\n",
       "        text-align: right;\n",
       "    }\n",
       "</style>\n",
       "<table border=\"1\" class=\"dataframe\">\n",
       "  <thead>\n",
       "    <tr style=\"text-align: right;\">\n",
       "      <th></th>\n",
       "      <th>airline_sentiment</th>\n",
       "      <th>text</th>\n",
       "    </tr>\n",
       "  </thead>\n",
       "  <tbody>\n",
       "    <tr>\n",
       "      <th>14635</th>\n",
       "      <td>positive</td>\n",
       "      <td>@AmericanAir thank you we got on a different flight to Chicago.</td>\n",
       "    </tr>\n",
       "    <tr>\n",
       "      <th>14636</th>\n",
       "      <td>negative</td>\n",
       "      <td>@AmericanAir leaving over 20 minutes Late Flight. No warnings or communication until we were 15 minutes Late Flight. That's called shitty customer svc</td>\n",
       "    </tr>\n",
       "    <tr>\n",
       "      <th>14637</th>\n",
       "      <td>neutral</td>\n",
       "      <td>@AmericanAir Please bring American Airlines to #BlackBerry10</td>\n",
       "    </tr>\n",
       "    <tr>\n",
       "      <th>14638</th>\n",
       "      <td>negative</td>\n",
       "      <td>@AmericanAir you have my money, you change my flight, and don't answer your phones! Any other suggestions so I can make my commitment??</td>\n",
       "    </tr>\n",
       "    <tr>\n",
       "      <th>14639</th>\n",
       "      <td>neutral</td>\n",
       "      <td>@AmericanAir we have 8 ppl so we need 2 know how many seats are on the next flight. Plz put us on standby for 4 people on the next flight?</td>\n",
       "    </tr>\n",
       "  </tbody>\n",
       "</table>\n",
       "</div>"
      ],
      "text/plain": [
       "      airline_sentiment                                                                                                                                                    text\n",
       "14635          positive                                                                                         @AmericanAir thank you we got on a different flight to Chicago.\n",
       "14636          negative  @AmericanAir leaving over 20 minutes Late Flight. No warnings or communication until we were 15 minutes Late Flight. That's called shitty customer svc\n",
       "14637           neutral                                                                                            @AmericanAir Please bring American Airlines to #BlackBerry10\n",
       "14638          negative                 @AmericanAir you have my money, you change my flight, and don't answer your phones! Any other suggestions so I can make my commitment??\n",
       "14639           neutral              @AmericanAir we have 8 ppl so we need 2 know how many seats are on the next flight. Plz put us on standby for 4 people on the next flight?"
      ]
     },
     "execution_count": 14,
     "metadata": {
      "tags": []
     },
     "output_type": "execute_result"
    }
   ],
   "source": [
    "#Remove http urls from the text.\n",
    "def remove_http(text):\n",
    "    new_text = re.sub(r\"http\\S+\", \"\", text)\n",
    "    return new_text\n",
    "smdata['text'] = smdata['text'].apply(lambda x: remove_http(x))\n",
    "smdata.tail()"
   ]
  },
  {
   "cell_type": "code",
   "execution_count": null,
   "metadata": {
    "colab": {
     "base_uri": "https://localhost:8080/",
     "height": 220
    },
    "id": "8KIJZUlaCvRy",
    "outputId": "210fdb29-1f8e-4125-9d2f-6fe268c945d2"
   },
   "outputs": [
    {
     "data": {
      "text/html": [
       "<div>\n",
       "<style scoped>\n",
       "    .dataframe tbody tr th:only-of-type {\n",
       "        vertical-align: middle;\n",
       "    }\n",
       "\n",
       "    .dataframe tbody tr th {\n",
       "        vertical-align: top;\n",
       "    }\n",
       "\n",
       "    .dataframe thead th {\n",
       "        text-align: right;\n",
       "    }\n",
       "</style>\n",
       "<table border=\"1\" class=\"dataframe\">\n",
       "  <thead>\n",
       "    <tr style=\"text-align: right;\">\n",
       "      <th></th>\n",
       "      <th>airline_sentiment</th>\n",
       "      <th>text</th>\n",
       "    </tr>\n",
       "  </thead>\n",
       "  <tbody>\n",
       "    <tr>\n",
       "      <th>0</th>\n",
       "      <td>neutral</td>\n",
       "      <td>@VirginAmerica What @dhepburn said.</td>\n",
       "    </tr>\n",
       "    <tr>\n",
       "      <th>1</th>\n",
       "      <td>positive</td>\n",
       "      <td>@VirginAmerica plus you have added commercials to the experience... tacky.</td>\n",
       "    </tr>\n",
       "    <tr>\n",
       "      <th>2</th>\n",
       "      <td>neutral</td>\n",
       "      <td>@VirginAmerica I did not today... Must mean I need to take another trip!</td>\n",
       "    </tr>\n",
       "    <tr>\n",
       "      <th>3</th>\n",
       "      <td>negative</td>\n",
       "      <td>@VirginAmerica it is really aggressive to blast obnoxious \"entertainment\" in your guests' faces &amp; they have little recourse</td>\n",
       "    </tr>\n",
       "    <tr>\n",
       "      <th>4</th>\n",
       "      <td>negative</td>\n",
       "      <td>@VirginAmerica and it is a really big bad thing about it</td>\n",
       "    </tr>\n",
       "  </tbody>\n",
       "</table>\n",
       "</div>"
      ],
      "text/plain": [
       "  airline_sentiment                                                                                                                         text\n",
       "0           neutral                                                                                          @VirginAmerica What @dhepburn said.\n",
       "1          positive                                                   @VirginAmerica plus you have added commercials to the experience... tacky.\n",
       "2           neutral                                                     @VirginAmerica I did not today... Must mean I need to take another trip!\n",
       "3          negative  @VirginAmerica it is really aggressive to blast obnoxious \"entertainment\" in your guests' faces & they have little recourse\n",
       "4          negative                                                                     @VirginAmerica and it is a really big bad thing about it"
      ]
     },
     "execution_count": 15,
     "metadata": {
      "tags": []
     },
     "output_type": "execute_result"
    }
   ],
   "source": [
    "# Replace contractions in string of text\n",
    "smdata['text']  = smdata.apply(lambda row: contractions.fix(row['text']), axis=1) \n",
    "smdata.head()"
   ]
  },
  {
   "cell_type": "code",
   "execution_count": null,
   "metadata": {
    "colab": {
     "base_uri": "https://localhost:8080/",
     "height": 220
    },
    "id": "yyk4gy4a9z8i",
    "outputId": "c873e077-d930-46d8-f8b5-1a7a2cf3ae11"
   },
   "outputs": [
    {
     "data": {
      "text/html": [
       "<div>\n",
       "<style scoped>\n",
       "    .dataframe tbody tr th:only-of-type {\n",
       "        vertical-align: middle;\n",
       "    }\n",
       "\n",
       "    .dataframe tbody tr th {\n",
       "        vertical-align: top;\n",
       "    }\n",
       "\n",
       "    .dataframe thead th {\n",
       "        text-align: right;\n",
       "    }\n",
       "</style>\n",
       "<table border=\"1\" class=\"dataframe\">\n",
       "  <thead>\n",
       "    <tr style=\"text-align: right;\">\n",
       "      <th></th>\n",
       "      <th>airline_sentiment</th>\n",
       "      <th>text</th>\n",
       "    </tr>\n",
       "  </thead>\n",
       "  <tbody>\n",
       "    <tr>\n",
       "      <th>0</th>\n",
       "      <td>neutral</td>\n",
       "      <td>@VirginAmerica What @dhepburn said.</td>\n",
       "    </tr>\n",
       "    <tr>\n",
       "      <th>1</th>\n",
       "      <td>positive</td>\n",
       "      <td>@VirginAmerica plus you have added commercials to the experience... tacky.</td>\n",
       "    </tr>\n",
       "    <tr>\n",
       "      <th>2</th>\n",
       "      <td>neutral</td>\n",
       "      <td>@VirginAmerica I did not today... Must mean I need to take another trip!</td>\n",
       "    </tr>\n",
       "    <tr>\n",
       "      <th>3</th>\n",
       "      <td>negative</td>\n",
       "      <td>@VirginAmerica it is really aggressive to blast obnoxious \"entertainment\" in your guests' faces &amp; they have little recourse</td>\n",
       "    </tr>\n",
       "    <tr>\n",
       "      <th>4</th>\n",
       "      <td>negative</td>\n",
       "      <td>@VirginAmerica and it is a really big bad thing about it</td>\n",
       "    </tr>\n",
       "  </tbody>\n",
       "</table>\n",
       "</div>"
      ],
      "text/plain": [
       "  airline_sentiment                                                                                                                         text\n",
       "0           neutral                                                                                          @VirginAmerica What @dhepburn said.\n",
       "1          positive                                                   @VirginAmerica plus you have added commercials to the experience... tacky.\n",
       "2           neutral                                                     @VirginAmerica I did not today... Must mean I need to take another trip!\n",
       "3          negative  @VirginAmerica it is really aggressive to blast obnoxious \"entertainment\" in your guests' faces & they have little recourse\n",
       "4          negative                                                                     @VirginAmerica and it is a really big bad thing about it"
      ]
     },
     "execution_count": 16,
     "metadata": {
      "tags": []
     },
     "output_type": "execute_result"
    }
   ],
   "source": [
    "# Remove the numbers from the text.\n",
    "def remove_numbers(text):\n",
    "    text = re.sub(r'\\d+','', text)\n",
    "    return text\n",
    "\n",
    "smdata['text'] = smdata['text'].apply(lambda x: remove_numbers(x))\n",
    "smdata.head()"
   ]
  },
  {
   "cell_type": "code",
   "execution_count": null,
   "metadata": {
    "colab": {
     "base_uri": "https://localhost:8080/",
     "height": 220
    },
    "id": "RwY4omJ1e3hT",
    "outputId": "bd771635-ec99-4536-8a9d-09e5b5713dd0"
   },
   "outputs": [
    {
     "data": {
      "text/html": [
       "<div>\n",
       "<style scoped>\n",
       "    .dataframe tbody tr th:only-of-type {\n",
       "        vertical-align: middle;\n",
       "    }\n",
       "\n",
       "    .dataframe tbody tr th {\n",
       "        vertical-align: top;\n",
       "    }\n",
       "\n",
       "    .dataframe thead th {\n",
       "        text-align: right;\n",
       "    }\n",
       "</style>\n",
       "<table border=\"1\" class=\"dataframe\">\n",
       "  <thead>\n",
       "    <tr style=\"text-align: right;\">\n",
       "      <th></th>\n",
       "      <th>airline_sentiment</th>\n",
       "      <th>text</th>\n",
       "    </tr>\n",
       "  </thead>\n",
       "  <tbody>\n",
       "    <tr>\n",
       "      <th>0</th>\n",
       "      <td>neutral</td>\n",
       "      <td>[@, VirginAmerica, What, @, dhepburn, said, .]</td>\n",
       "    </tr>\n",
       "    <tr>\n",
       "      <th>1</th>\n",
       "      <td>positive</td>\n",
       "      <td>[@, VirginAmerica, plus, you, have, added, commercials, to, the, experience, ..., tacky, .]</td>\n",
       "    </tr>\n",
       "    <tr>\n",
       "      <th>2</th>\n",
       "      <td>neutral</td>\n",
       "      <td>[@, VirginAmerica, I, did, not, today, ..., Must, mean, I, need, to, take, another, trip, !]</td>\n",
       "    </tr>\n",
       "    <tr>\n",
       "      <th>3</th>\n",
       "      <td>negative</td>\n",
       "      <td>[@, VirginAmerica, it, is, really, aggressive, to, blast, obnoxious, ``, entertainment, '', in, your, guests, ', faces, &amp;, they, have, little, recourse]</td>\n",
       "    </tr>\n",
       "    <tr>\n",
       "      <th>4</th>\n",
       "      <td>negative</td>\n",
       "      <td>[@, VirginAmerica, and, it, is, a, really, big, bad, thing, about, it]</td>\n",
       "    </tr>\n",
       "  </tbody>\n",
       "</table>\n",
       "</div>"
      ],
      "text/plain": [
       "  airline_sentiment                                                                                                                                                      text\n",
       "0           neutral                                                                                                            [@, VirginAmerica, What, @, dhepburn, said, .]\n",
       "1          positive                                                               [@, VirginAmerica, plus, you, have, added, commercials, to, the, experience, ..., tacky, .]\n",
       "2           neutral                                                              [@, VirginAmerica, I, did, not, today, ..., Must, mean, I, need, to, take, another, trip, !]\n",
       "3          negative  [@, VirginAmerica, it, is, really, aggressive, to, blast, obnoxious, ``, entertainment, '', in, your, guests, ', faces, &, they, have, little, recourse]\n",
       "4          negative                                                                                    [@, VirginAmerica, and, it, is, a, really, big, bad, thing, about, it]"
      ]
     },
     "execution_count": 17,
     "metadata": {
      "tags": []
     },
     "output_type": "execute_result"
    }
   ],
   "source": [
    "# Tokenization of words\n",
    "smdata['text'] = smdata.apply(lambda row: nltk.word_tokenize(row['text']), axis=1) \n",
    "smdata.head()\n"
   ]
  },
  {
   "cell_type": "code",
   "execution_count": null,
   "metadata": {
    "colab": {
     "base_uri": "https://localhost:8080/",
     "height": 220
    },
    "id": "_tizdLUcBgEB",
    "outputId": "583321c4-bebd-4369-a02b-a30212f57d5f"
   },
   "outputs": [
    {
     "data": {
      "text/html": [
       "<div>\n",
       "<style scoped>\n",
       "    .dataframe tbody tr th:only-of-type {\n",
       "        vertical-align: middle;\n",
       "    }\n",
       "\n",
       "    .dataframe tbody tr th {\n",
       "        vertical-align: top;\n",
       "    }\n",
       "\n",
       "    .dataframe thead th {\n",
       "        text-align: right;\n",
       "    }\n",
       "</style>\n",
       "<table border=\"1\" class=\"dataframe\">\n",
       "  <thead>\n",
       "    <tr style=\"text-align: right;\">\n",
       "      <th></th>\n",
       "      <th>airline_sentiment</th>\n",
       "      <th>text</th>\n",
       "    </tr>\n",
       "  </thead>\n",
       "  <tbody>\n",
       "    <tr>\n",
       "      <th>0</th>\n",
       "      <td>neutral</td>\n",
       "      <td>[VirginAmerica, What, dhepburn, said]</td>\n",
       "    </tr>\n",
       "    <tr>\n",
       "      <th>1</th>\n",
       "      <td>positive</td>\n",
       "      <td>[VirginAmerica, plus, you, have, added, commercials, to, the, experience, tacky]</td>\n",
       "    </tr>\n",
       "    <tr>\n",
       "      <th>2</th>\n",
       "      <td>neutral</td>\n",
       "      <td>[VirginAmerica, I, did, not, today, Must, mean, I, need, to, take, another, trip]</td>\n",
       "    </tr>\n",
       "    <tr>\n",
       "      <th>3</th>\n",
       "      <td>negative</td>\n",
       "      <td>[VirginAmerica, it, is, really, aggressive, to, blast, obnoxious, entertainment, in, your, guests, faces, they, have, little, recourse]</td>\n",
       "    </tr>\n",
       "    <tr>\n",
       "      <th>4</th>\n",
       "      <td>negative</td>\n",
       "      <td>[VirginAmerica, and, it, is, a, really, big, bad, thing, about, it]</td>\n",
       "    </tr>\n",
       "  </tbody>\n",
       "</table>\n",
       "</div>"
      ],
      "text/plain": [
       "  airline_sentiment                                                                                                                                     text\n",
       "0           neutral                                                                                                    [VirginAmerica, What, dhepburn, said]\n",
       "1          positive                                                         [VirginAmerica, plus, you, have, added, commercials, to, the, experience, tacky]\n",
       "2           neutral                                                        [VirginAmerica, I, did, not, today, Must, mean, I, need, to, take, another, trip]\n",
       "3          negative  [VirginAmerica, it, is, really, aggressive, to, blast, obnoxious, entertainment, in, your, guests, faces, they, have, little, recourse]\n",
       "4          negative                                                                      [VirginAmerica, and, it, is, a, really, big, bad, thing, about, it]"
      ]
     },
     "execution_count": 18,
     "metadata": {
      "tags": []
     },
     "output_type": "execute_result"
    }
   ],
   "source": [
    "# Removal of Special Characters and Punctuations\n",
    "def remove_special_punctuation(text):\n",
    "    new_text = []\n",
    "    for word in text:\n",
    "        new_word = re.sub(r'[^\\w\\s]', '', word)\n",
    "        if new_word != '':\n",
    "            new_text.append(new_word)\n",
    "    return new_text\n",
    "smdata['text'] = smdata['text'].apply(lambda x: remove_special_punctuation(x))\n",
    "smdata.head() "
   ]
  },
  {
   "cell_type": "code",
   "execution_count": null,
   "metadata": {
    "colab": {
     "base_uri": "https://localhost:8080/",
     "height": 220
    },
    "id": "pKv5wIsIksPH",
    "outputId": "2a00226f-55bb-4c8d-f10c-523ad27b7a8f"
   },
   "outputs": [
    {
     "data": {
      "text/html": [
       "<div>\n",
       "<style scoped>\n",
       "    .dataframe tbody tr th:only-of-type {\n",
       "        vertical-align: middle;\n",
       "    }\n",
       "\n",
       "    .dataframe tbody tr th {\n",
       "        vertical-align: top;\n",
       "    }\n",
       "\n",
       "    .dataframe thead th {\n",
       "        text-align: right;\n",
       "    }\n",
       "</style>\n",
       "<table border=\"1\" class=\"dataframe\">\n",
       "  <thead>\n",
       "    <tr style=\"text-align: right;\">\n",
       "      <th></th>\n",
       "      <th>airline_sentiment</th>\n",
       "      <th>text</th>\n",
       "    </tr>\n",
       "  </thead>\n",
       "  <tbody>\n",
       "    <tr>\n",
       "      <th>0</th>\n",
       "      <td>neutral</td>\n",
       "      <td>[virginamerica, what, dhepburn, said]</td>\n",
       "    </tr>\n",
       "    <tr>\n",
       "      <th>1</th>\n",
       "      <td>positive</td>\n",
       "      <td>[virginamerica, plus, you, have, added, commercials, to, the, experience, tacky]</td>\n",
       "    </tr>\n",
       "    <tr>\n",
       "      <th>2</th>\n",
       "      <td>neutral</td>\n",
       "      <td>[virginamerica, i, did, not, today, must, mean, i, need, to, take, another, trip]</td>\n",
       "    </tr>\n",
       "    <tr>\n",
       "      <th>3</th>\n",
       "      <td>negative</td>\n",
       "      <td>[virginamerica, it, is, really, aggressive, to, blast, obnoxious, entertainment, in, your, guests, faces, they, have, little, recourse]</td>\n",
       "    </tr>\n",
       "    <tr>\n",
       "      <th>4</th>\n",
       "      <td>negative</td>\n",
       "      <td>[virginamerica, and, it, is, a, really, big, bad, thing, about, it]</td>\n",
       "    </tr>\n",
       "  </tbody>\n",
       "</table>\n",
       "</div>"
      ],
      "text/plain": [
       "  airline_sentiment                                                                                                                                     text\n",
       "0           neutral                                                                                                    [virginamerica, what, dhepburn, said]\n",
       "1          positive                                                         [virginamerica, plus, you, have, added, commercials, to, the, experience, tacky]\n",
       "2           neutral                                                        [virginamerica, i, did, not, today, must, mean, i, need, to, take, another, trip]\n",
       "3          negative  [virginamerica, it, is, really, aggressive, to, blast, obnoxious, entertainment, in, your, guests, faces, they, have, little, recourse]\n",
       "4          negative                                                                      [virginamerica, and, it, is, a, really, big, bad, thing, about, it]"
      ]
     },
     "execution_count": 19,
     "metadata": {
      "tags": []
     },
     "output_type": "execute_result"
    }
   ],
   "source": [
    "# Convert all characters to lowercase\n",
    "def to_lowercase(text):\n",
    "    new_text = []\n",
    "    for word in text:\n",
    "        new_word = word.lower()\n",
    "        new_text.append(new_word)\n",
    "    return new_text\n",
    "smdata['text'] = smdata['text'].apply(lambda x: to_lowercase(x))\n",
    "smdata.head()     \n"
   ]
  },
  {
   "cell_type": "code",
   "execution_count": null,
   "metadata": {
    "id": "4CL410X5B2Tj"
   },
   "outputs": [],
   "source": [
    "# stop words custom list.\n",
    "stopwords = stopwords.words('english')\n",
    "\n",
    "customlist = ['not', \"couldn't\", 'didn', \"didn't\", 'doesn', \"doesn't\", 'hadn', \"hadn't\", 'hasn',\n",
    "        \"hasn't\", 'haven', \"haven't\", 'isn', \"isn't\", 'ma', 'mightn', \"mightn't\", 'mustn',\n",
    "        \"mustn't\", 'needn', \"needn't\", 'shan', \"shan't\", 'shouldn', \"shouldn't\", 'wasn',\n",
    "        \"wasn't\", 'weren', \"weren't\", 'won', \"won't\", 'wouldn', \"wouldn't\"]\n",
    "# Set custom stop-word's list as not, couldn't etc. words matter in Sentiment, so not removing them from original data.\n",
    "stopwords = list(set(stopwords) - set(customlist))                              \n"
   ]
  },
  {
   "cell_type": "code",
   "execution_count": null,
   "metadata": {
    "colab": {
     "base_uri": "https://localhost:8080/",
     "height": 220
    },
    "id": "enpEASYXjVK3",
    "outputId": "7f5df46c-6ff0-4cdd-bb3d-6d71d29d797e"
   },
   "outputs": [
    {
     "data": {
      "text/html": [
       "<div>\n",
       "<style scoped>\n",
       "    .dataframe tbody tr th:only-of-type {\n",
       "        vertical-align: middle;\n",
       "    }\n",
       "\n",
       "    .dataframe tbody tr th {\n",
       "        vertical-align: top;\n",
       "    }\n",
       "\n",
       "    .dataframe thead th {\n",
       "        text-align: right;\n",
       "    }\n",
       "</style>\n",
       "<table border=\"1\" class=\"dataframe\">\n",
       "  <thead>\n",
       "    <tr style=\"text-align: right;\">\n",
       "      <th></th>\n",
       "      <th>airline_sentiment</th>\n",
       "      <th>text</th>\n",
       "    </tr>\n",
       "  </thead>\n",
       "  <tbody>\n",
       "    <tr>\n",
       "      <th>0</th>\n",
       "      <td>neutral</td>\n",
       "      <td>[virginamerica, dhepburn, said]</td>\n",
       "    </tr>\n",
       "    <tr>\n",
       "      <th>1</th>\n",
       "      <td>positive</td>\n",
       "      <td>[virginamerica, plus, added, commercials, experience, tacky]</td>\n",
       "    </tr>\n",
       "    <tr>\n",
       "      <th>2</th>\n",
       "      <td>neutral</td>\n",
       "      <td>[virginamerica, not, today, must, mean, need, take, another, trip]</td>\n",
       "    </tr>\n",
       "    <tr>\n",
       "      <th>3</th>\n",
       "      <td>negative</td>\n",
       "      <td>[virginamerica, really, aggressive, blast, obnoxious, entertainment, guests, faces, little, recourse]</td>\n",
       "    </tr>\n",
       "    <tr>\n",
       "      <th>4</th>\n",
       "      <td>negative</td>\n",
       "      <td>[virginamerica, really, big, bad, thing]</td>\n",
       "    </tr>\n",
       "  </tbody>\n",
       "</table>\n",
       "</div>"
      ],
      "text/plain": [
       "  airline_sentiment                                                                                                   text\n",
       "0           neutral                                                                        [virginamerica, dhepburn, said]\n",
       "1          positive                                           [virginamerica, plus, added, commercials, experience, tacky]\n",
       "2           neutral                                     [virginamerica, not, today, must, mean, need, take, another, trip]\n",
       "3          negative  [virginamerica, really, aggressive, blast, obnoxious, entertainment, guests, faces, little, recourse]\n",
       "4          negative                                                               [virginamerica, really, big, bad, thing]"
      ]
     },
     "execution_count": 21,
     "metadata": {
      "tags": []
     },
     "output_type": "execute_result"
    }
   ],
   "source": [
    "# Remove stop words from list of tokenized words\n",
    "def remove_stopwords(text):\n",
    "    new_text = []\n",
    "    for word in text:\n",
    "        if word not in stopwords:\n",
    "            new_text.append(word)\n",
    "    return new_text\n",
    "smdata['text'] = smdata['text'].apply(lambda x: remove_stopwords(x))\n",
    "smdata.head()     \n"
   ]
  },
  {
   "cell_type": "code",
   "execution_count": null,
   "metadata": {
    "colab": {
     "base_uri": "https://localhost:8080/",
     "height": 203
    },
    "id": "21Q0M6LW-xnV",
    "outputId": "4d16d218-e042-4e61-80c9-b5dd0af97504"
   },
   "outputs": [
    {
     "data": {
      "text/html": [
       "<div>\n",
       "<style scoped>\n",
       "    .dataframe tbody tr th:only-of-type {\n",
       "        vertical-align: middle;\n",
       "    }\n",
       "\n",
       "    .dataframe tbody tr th {\n",
       "        vertical-align: top;\n",
       "    }\n",
       "\n",
       "    .dataframe thead th {\n",
       "        text-align: right;\n",
       "    }\n",
       "</style>\n",
       "<table border=\"1\" class=\"dataframe\">\n",
       "  <thead>\n",
       "    <tr style=\"text-align: right;\">\n",
       "      <th></th>\n",
       "      <th>airline_sentiment</th>\n",
       "      <th>text</th>\n",
       "    </tr>\n",
       "  </thead>\n",
       "  <tbody>\n",
       "    <tr>\n",
       "      <th>0</th>\n",
       "      <td>neutral</td>\n",
       "      <td>[dhepburn, said]</td>\n",
       "    </tr>\n",
       "    <tr>\n",
       "      <th>1</th>\n",
       "      <td>positive</td>\n",
       "      <td>[plus, added, commercials, experience, tacky]</td>\n",
       "    </tr>\n",
       "    <tr>\n",
       "      <th>2</th>\n",
       "      <td>neutral</td>\n",
       "      <td>[not, today, must, mean, need, take, another, trip]</td>\n",
       "    </tr>\n",
       "    <tr>\n",
       "      <th>3</th>\n",
       "      <td>negative</td>\n",
       "      <td>[really, aggressive, blast, obnoxious, entertainment, guests, faces, little, recourse]</td>\n",
       "    </tr>\n",
       "    <tr>\n",
       "      <th>4</th>\n",
       "      <td>negative</td>\n",
       "      <td>[really, big, bad, thing]</td>\n",
       "    </tr>\n",
       "  </tbody>\n",
       "</table>\n",
       "</div>"
      ],
      "text/plain": [
       "  airline_sentiment                                                                                    text\n",
       "0           neutral                                                                        [dhepburn, said]\n",
       "1          positive                                           [plus, added, commercials, experience, tacky]\n",
       "2           neutral                                     [not, today, must, mean, need, take, another, trip]\n",
       "3          negative  [really, aggressive, blast, obnoxious, entertainment, guests, faces, little, recourse]\n",
       "4          negative                                                               [really, big, bad, thing]"
      ]
     },
     "execution_count": 22,
     "metadata": {
      "tags": []
     },
     "output_type": "execute_result"
    }
   ],
   "source": [
    "# removing airlines names infront of the text, \n",
    "# hence we are building the model by considering only the text and airline sentiment\n",
    "airlinelist = ['virginamerica','united','southwestair','jetblue','usairways','americanair']\n",
    "# Remove stop words from list of tokenized words\n",
    "def remove_airlineslist(text):\n",
    "    new_text = []\n",
    "    for word in text:\n",
    "        if word not in airlinelist:\n",
    "            new_text.append(word)\n",
    "    return new_text\n",
    "smdata['text'] = smdata['text'].apply(lambda x: remove_airlineslist(x))\n",
    "smdata.head()    "
   ]
  },
  {
   "cell_type": "code",
   "execution_count": null,
   "metadata": {
    "colab": {
     "base_uri": "https://localhost:8080/",
     "height": 203
    },
    "id": "0JULs3i1JCJF",
    "outputId": "c89ea212-9261-4c96-84ca-89502cb3c4c9"
   },
   "outputs": [
    {
     "data": {
      "text/html": [
       "<div>\n",
       "<style scoped>\n",
       "    .dataframe tbody tr th:only-of-type {\n",
       "        vertical-align: middle;\n",
       "    }\n",
       "\n",
       "    .dataframe tbody tr th {\n",
       "        vertical-align: top;\n",
       "    }\n",
       "\n",
       "    .dataframe thead th {\n",
       "        text-align: right;\n",
       "    }\n",
       "</style>\n",
       "<table border=\"1\" class=\"dataframe\">\n",
       "  <thead>\n",
       "    <tr style=\"text-align: right;\">\n",
       "      <th></th>\n",
       "      <th>airline_sentiment</th>\n",
       "      <th>text</th>\n",
       "    </tr>\n",
       "  </thead>\n",
       "  <tbody>\n",
       "    <tr>\n",
       "      <th>0</th>\n",
       "      <td>neutral</td>\n",
       "      <td>[dhepburn, said]</td>\n",
       "    </tr>\n",
       "    <tr>\n",
       "      <th>1</th>\n",
       "      <td>positive</td>\n",
       "      <td>[plus, added, commercials, experience, tacky]</td>\n",
       "    </tr>\n",
       "    <tr>\n",
       "      <th>2</th>\n",
       "      <td>neutral</td>\n",
       "      <td>[not, today, must, mean, need, take, another, trip]</td>\n",
       "    </tr>\n",
       "    <tr>\n",
       "      <th>3</th>\n",
       "      <td>negative</td>\n",
       "      <td>[really, aggressive, blast, obnoxious, entertainment, guests, faces, little, recourse]</td>\n",
       "    </tr>\n",
       "    <tr>\n",
       "      <th>4</th>\n",
       "      <td>negative</td>\n",
       "      <td>[really, big, bad, thing]</td>\n",
       "    </tr>\n",
       "  </tbody>\n",
       "</table>\n",
       "</div>"
      ],
      "text/plain": [
       "  airline_sentiment                                                                                    text\n",
       "0           neutral                                                                        [dhepburn, said]\n",
       "1          positive                                           [plus, added, commercials, experience, tacky]\n",
       "2           neutral                                     [not, today, must, mean, need, take, another, trip]\n",
       "3          negative  [really, aggressive, blast, obnoxious, entertainment, guests, faces, little, recourse]\n",
       "4          negative                                                               [really, big, bad, thing]"
      ]
     },
     "execution_count": 23,
     "metadata": {
      "tags": []
     },
     "output_type": "execute_result"
    }
   ],
   "source": [
    "# Remove non-ASCII characters from the list.\n",
    "def remove_non_ascii(text):\n",
    "    new_text = []\n",
    "    for word in text:\n",
    "        new_word = unicodedata.normalize('NFKD', word).encode('ascii', 'ignore').decode('utf-8', 'ignore')\n",
    "        new_text.append(new_word)\n",
    "    return new_text\n",
    "smdata['text'] = smdata['text'].apply(lambda x: remove_non_ascii(x))\n",
    "smdata.head()    \n"
   ]
  },
  {
   "cell_type": "code",
   "execution_count": null,
   "metadata": {
    "colab": {
     "base_uri": "https://localhost:8080/",
     "height": 203
    },
    "id": "uNWX-ginkcR-",
    "outputId": "fb96a2c8-b7de-4a23-df1b-4d8038cb10b2"
   },
   "outputs": [
    {
     "data": {
      "text/html": [
       "<div>\n",
       "<style scoped>\n",
       "    .dataframe tbody tr th:only-of-type {\n",
       "        vertical-align: middle;\n",
       "    }\n",
       "\n",
       "    .dataframe tbody tr th {\n",
       "        vertical-align: top;\n",
       "    }\n",
       "\n",
       "    .dataframe thead th {\n",
       "        text-align: right;\n",
       "    }\n",
       "</style>\n",
       "<table border=\"1\" class=\"dataframe\">\n",
       "  <thead>\n",
       "    <tr style=\"text-align: right;\">\n",
       "      <th></th>\n",
       "      <th>airline_sentiment</th>\n",
       "      <th>text</th>\n",
       "    </tr>\n",
       "  </thead>\n",
       "  <tbody>\n",
       "    <tr>\n",
       "      <th>0</th>\n",
       "      <td>neutral</td>\n",
       "      <td>[dhepburn, say]</td>\n",
       "    </tr>\n",
       "    <tr>\n",
       "      <th>1</th>\n",
       "      <td>positive</td>\n",
       "      <td>[plus, add, commercials, experience, tacky]</td>\n",
       "    </tr>\n",
       "    <tr>\n",
       "      <th>2</th>\n",
       "      <td>neutral</td>\n",
       "      <td>[not, today, must, mean, need, take, another, trip]</td>\n",
       "    </tr>\n",
       "    <tr>\n",
       "      <th>3</th>\n",
       "      <td>negative</td>\n",
       "      <td>[really, aggressive, blast, obnoxious, entertainment, guests, face, little, recourse]</td>\n",
       "    </tr>\n",
       "    <tr>\n",
       "      <th>4</th>\n",
       "      <td>negative</td>\n",
       "      <td>[really, big, bad, thing]</td>\n",
       "    </tr>\n",
       "  </tbody>\n",
       "</table>\n",
       "</div>"
      ],
      "text/plain": [
       "  airline_sentiment                                                                                   text\n",
       "0           neutral                                                                        [dhepburn, say]\n",
       "1          positive                                            [plus, add, commercials, experience, tacky]\n",
       "2           neutral                                    [not, today, must, mean, need, take, another, trip]\n",
       "3          negative  [really, aggressive, blast, obnoxious, entertainment, guests, face, little, recourse]\n",
       "4          negative                                                              [really, big, bad, thing]"
      ]
     },
     "execution_count": 24,
     "metadata": {
      "tags": []
     },
     "output_type": "execute_result"
    }
   ],
   "source": [
    "# Lemmatize the words after preprocessing\n",
    "lemmatizer = WordNetLemmatizer()\n",
    "def lemmatize_list(text):\n",
    "    new_text = []\n",
    "    for word in text:\n",
    "      new_text.append(lemmatizer.lemmatize(word, pos='v'))\n",
    "    return new_text\n",
    "smdata['text'] = smdata['text'].apply(lambda x: lemmatize_list(x))\n",
    "smdata.head()      \n"
   ]
  },
  {
   "cell_type": "code",
   "execution_count": null,
   "metadata": {
    "colab": {
     "base_uri": "https://localhost:8080/",
     "height": 203
    },
    "id": "_etGb-aBsXNv",
    "outputId": "c0063981-1758-46fc-8029-737ad93a5039"
   },
   "outputs": [
    {
     "data": {
      "text/html": [
       "<div>\n",
       "<style scoped>\n",
       "    .dataframe tbody tr th:only-of-type {\n",
       "        vertical-align: middle;\n",
       "    }\n",
       "\n",
       "    .dataframe tbody tr th {\n",
       "        vertical-align: top;\n",
       "    }\n",
       "\n",
       "    .dataframe thead th {\n",
       "        text-align: right;\n",
       "    }\n",
       "</style>\n",
       "<table border=\"1\" class=\"dataframe\">\n",
       "  <thead>\n",
       "    <tr style=\"text-align: right;\">\n",
       "      <th></th>\n",
       "      <th>airline_sentiment</th>\n",
       "      <th>text</th>\n",
       "    </tr>\n",
       "  </thead>\n",
       "  <tbody>\n",
       "    <tr>\n",
       "      <th>0</th>\n",
       "      <td>neutral</td>\n",
       "      <td>dhepburn say</td>\n",
       "    </tr>\n",
       "    <tr>\n",
       "      <th>1</th>\n",
       "      <td>positive</td>\n",
       "      <td>plus add commercials experience tacky</td>\n",
       "    </tr>\n",
       "    <tr>\n",
       "      <th>2</th>\n",
       "      <td>neutral</td>\n",
       "      <td>not today must mean need take another trip</td>\n",
       "    </tr>\n",
       "    <tr>\n",
       "      <th>3</th>\n",
       "      <td>negative</td>\n",
       "      <td>really aggressive blast obnoxious entertainment guests face little recourse</td>\n",
       "    </tr>\n",
       "    <tr>\n",
       "      <th>4</th>\n",
       "      <td>negative</td>\n",
       "      <td>really big bad thing</td>\n",
       "    </tr>\n",
       "  </tbody>\n",
       "</table>\n",
       "</div>"
      ],
      "text/plain": [
       "  airline_sentiment                                                                         text\n",
       "0           neutral                                                                 dhepburn say\n",
       "1          positive                                        plus add commercials experience tacky\n",
       "2           neutral                                   not today must mean need take another trip\n",
       "3          negative  really aggressive blast obnoxious entertainment guests face little recourse\n",
       "4          negative                                                         really big bad thing"
      ]
     },
     "execution_count": 25,
     "metadata": {
      "tags": []
     },
     "output_type": "execute_result"
    }
   ],
   "source": [
    "# joining the words in the list to convert back to text string\n",
    "def join_words(text):\n",
    "   return ' '.join(text)\n",
    "smdata['text'] = smdata['text'].apply(lambda x: join_words(x))\n",
    "smdata.head()      \n"
   ]
  },
  {
   "cell_type": "code",
   "execution_count": null,
   "metadata": {
    "colab": {
     "base_uri": "https://localhost:8080/"
    },
    "id": "_3bF0Y2iwcTe",
    "outputId": "ff74e9cd-16cf-4ea2-d167-6a94e9c35cf4"
   },
   "outputs": [
    {
     "name": "stdout",
     "output_type": "stream",
     "text": [
      "Minimum review length: 0\n",
      "Maximum review length: 121\n"
     ]
    }
   ],
   "source": [
    "# Minimum review length and Maximum review length.\n",
    "print('Minimum review length: {}'.format(\n",
    "len(min((smdata['text']), key=len))))\n",
    "print('Maximum review length: {}'.format(\n",
    "len(max((smdata['text']), key=len))))\n"
   ]
  },
  {
   "cell_type": "code",
   "execution_count": null,
   "metadata": {
    "colab": {
     "base_uri": "https://localhost:8080/"
    },
    "id": "GbQ6wG4nxPNh",
    "outputId": "7c4b1ddb-b99c-4deb-f25e-7d24eb7cc343"
   },
   "outputs": [
    {
     "name": "stdout",
     "output_type": "stream",
     "text": [
      "      airline_sentiment text\n",
      "18             positive  fly\n",
      "269            positive  see\n",
      "753             neutral  yes\n",
      "1916            neutral  iep\n",
      "1935           negative  lie\n",
      "2607           negative  not\n",
      "3485            neutral  fee\n",
      "3558           positive  win\n",
      "3611           negative  yes\n",
      "4964           positive  fav\n",
      "5954            neutral  yes\n",
      "6295           negative  not\n",
      "7051            neutral  bro\n",
      "7173           positive  bet\n",
      "7358           negative  day\n",
      "8452            neutral  cri\n",
      "9255           negative  not\n",
      "9954           negative  bag\n",
      "10540          negative  bag\n",
      "10776          negative  get\n",
      "11109          positive  lol\n",
      "11286          negative  not\n",
      "12209           neutral  yes\n",
      "12535          negative  not\n",
      "12628           neutral  way\n",
      "12946          negative  bag\n",
      "13225           neutral  hop\n"
     ]
    }
   ],
   "source": [
    "# Checking the records that has length 0, 2,3\n",
    "min_rec = smdata[smdata['text'].apply(lambda x: len(x) == 3)]\n",
    "print(min_rec)\n"
   ]
  },
  {
   "cell_type": "markdown",
   "metadata": {
    "id": "n9kOW3vkPazB"
   },
   "source": [
    "There are 17 records that doesn't have any text information for the model to process. Deleting these records should improve the performance of the model."
   ]
  },
  {
   "cell_type": "code",
   "execution_count": null,
   "metadata": {
    "colab": {
     "base_uri": "https://localhost:8080/"
    },
    "id": "NhIVQcxzPu_D",
    "outputId": "5374ce99-4125-4f8b-acc0-45a10cd5a1d0"
   },
   "outputs": [
    {
     "name": "stdout",
     "output_type": "stream",
     "text": [
      "      airline_sentiment text\n",
      "988             neutral   do\n",
      "2113           negative   dm\n",
      "2985            neutral   do\n",
      "4402            neutral   do\n",
      "4955            neutral   do\n",
      "5333            neutral   dm\n",
      "5655            neutral   dm\n",
      "5832            neutral   do\n",
      "5903            neutral   th\n",
      "6538            neutral   dm\n",
      "6833           negative   dm\n",
      "8558            neutral   dm\n",
      "10904           neutral   do\n",
      "11261          positive   do\n",
      "11771           neutral   do\n",
      "12294           neutral   dm\n",
      "12527           neutral   do\n",
      "12553          negative   dm\n",
      "13213           neutral   do\n",
      "14196           neutral   go\n",
      "14443           neutral   hi\n"
     ]
    }
   ],
   "source": [
    "# Checking the records that has length 2\n",
    "min_rec = smdata[smdata['text'].apply(lambda x: len(x) == 2)]\n",
    "print(min_rec)\n"
   ]
  },
  {
   "cell_type": "markdown",
   "metadata": {
    "id": "lx10s8RhP7qK"
   },
   "source": [
    "There are 21 records that has text length has 2, hence it is difficult to understand removing these should help the model."
   ]
  },
  {
   "cell_type": "code",
   "execution_count": null,
   "metadata": {
    "colab": {
     "base_uri": "https://localhost:8080/"
    },
    "id": "d3AZtaK0CQyy",
    "outputId": "0e32ecc9-1faa-4c68-844d-b81db509c483"
   },
   "outputs": [
    {
     "name": "stdout",
     "output_type": "stream",
     "text": [
      "<class 'pandas.core.frame.DataFrame'>\n",
      "Int64Index: 14623 entries, 0 to 14639\n",
      "Data columns (total 2 columns):\n",
      " #   Column             Non-Null Count  Dtype \n",
      "---  ------             --------------  ----- \n",
      " 0   airline_sentiment  14623 non-null  object\n",
      " 1   text               14623 non-null  object\n",
      "dtypes: object(2)\n",
      "memory usage: 342.7+ KB\n"
     ]
    }
   ],
   "source": [
    "# dropping the records which has zero text length\n",
    "smdata.drop(smdata[smdata['text'].apply(lambda x: len(x) == 0)].index, inplace=True)\n",
    "smdata.info()"
   ]
  },
  {
   "cell_type": "code",
   "execution_count": null,
   "metadata": {
    "colab": {
     "base_uri": "https://localhost:8080/"
    },
    "id": "f5Ezgy-oQWQ4",
    "outputId": "12ecb33c-1008-4403-aa07-11d65ba00946"
   },
   "outputs": [
    {
     "name": "stdout",
     "output_type": "stream",
     "text": [
      "<class 'pandas.core.frame.DataFrame'>\n",
      "Int64Index: 14602 entries, 0 to 14639\n",
      "Data columns (total 2 columns):\n",
      " #   Column             Non-Null Count  Dtype \n",
      "---  ------             --------------  ----- \n",
      " 0   airline_sentiment  14602 non-null  object\n",
      " 1   text               14602 non-null  object\n",
      "dtypes: object(2)\n",
      "memory usage: 982.2+ KB\n"
     ]
    }
   ],
   "source": [
    "# dropping the records which has text length as 2\n",
    "smdata.drop(smdata[smdata['text'].apply(lambda x: len(x) == 2)].index, inplace=True)\n",
    "smdata.info()"
   ]
  },
  {
   "cell_type": "markdown",
   "metadata": {
    "id": "5y_G9L9OQefY"
   },
   "source": [
    "21 records are dropped from the dataset which has length of 2."
   ]
  },
  {
   "cell_type": "code",
   "execution_count": null,
   "metadata": {
    "colab": {
     "base_uri": "https://localhost:8080/"
    },
    "id": "XsIE118jB54u",
    "outputId": "7cea9a12-a9fd-4162-dcd6-8a8da8993eb1"
   },
   "outputs": [
    {
     "name": "stdout",
     "output_type": "stream",
     "text": [
      "      airline_sentiment                                                                                                                   text\n",
      "48              neutral                   ladygaga carrieunderwood last night tribute soundofmusic oscars ladygaga think carrieunderwood agree\n",
      "127            positive                  completely awesome experience last month boslas nonstop thank awesome flight depart time vabeatsjblue\n",
      "357             neutral                   partner visa checkout mobile payment method help boost mobile conversion rat etailwest payments visa\n",
      "375            positive                   flight book problems last second flight next week sfo san chance want gift promo code since love guy\n",
      "550            negative  iah charlotte baggage claim rep latrice h customerservice non existent ignore customer inappropriately touch customer\n",
      "...                 ...                                                                                                                    ...\n",
      "14419          negative    two hours late flightr still wait callback need reschedule flight hopefully late flightr one tomo not cancel flight\n",
      "14490          positive           greatest newark gate agents ever david deane norma sedholm luz calderon make feel like king americanairlines\n",
      "14496          negative         seattle checkin desk service full service line desks service priority full srvc wait minutes customer svc fail\n",
      "14610          negative                   understand weather issue not expect passengers wait hours inside airports whatever reason outrageous\n",
      "14633          negative                   flight cancel flightled leave tomorrow morning auto rebooked tuesday night flight need arrive monday\n",
      "\n",
      "[224 rows x 2 columns]\n"
     ]
    }
   ],
   "source": [
    "# Checking the Maximum text length of the records\n",
    "max_rec = smdata[smdata['text'].apply(lambda x: len(x) >= 100)]\n",
    "print(max_rec)\n"
   ]
  },
  {
   "cell_type": "markdown",
   "metadata": {
    "id": "oysrSlZJSD-j"
   },
   "source": [
    "### Building the model based on CountVectorizer and Random Forest"
   ]
  },
  {
   "cell_type": "code",
   "execution_count": null,
   "metadata": {
    "colab": {
     "base_uri": "https://localhost:8080/"
    },
    "id": "g5sOgL4bSB-t",
    "outputId": "2a5dabb9-b6f1-4e25-9ef6-9ae493dd0da9"
   },
   "outputs": [
    {
     "data": {
      "text/plain": [
       "(14602, 1000)"
      ]
     },
     "execution_count": 33,
     "metadata": {
      "tags": []
     },
     "output_type": "execute_result"
    }
   ],
   "source": [
    "# Vectorization (Convert text data to numbers).\n",
    "# Keep only 1000 features as number of features will increase the processing time.\n",
    "vectorizer = CountVectorizer(max_features=1000)                \n",
    "data_features = vectorizer.fit_transform(smdata['text'])\n",
    " # Convert the data features to array.\n",
    "data_features = data_features.toarray()  \n",
    "data_features.shape                     "
   ]
  },
  {
   "cell_type": "code",
   "execution_count": null,
   "metadata": {
    "colab": {
     "base_uri": "https://localhost:8080/"
    },
    "id": "uSVurwyeWdmI",
    "outputId": "3cba4f02-90b4-4981-8924-2c3104d5ccae"
   },
   "outputs": [
    {
     "name": "stdout",
     "output_type": "stream",
     "text": [
      "0         neutral\n",
      "1        positive\n",
      "2         neutral\n",
      "3        negative\n",
      "4        negative\n",
      "           ...   \n",
      "14635    positive\n",
      "14636    negative\n",
      "14637     neutral\n",
      "14638    negative\n",
      "14639     neutral\n",
      "Name: airline_sentiment, Length: 14602, dtype: object\n"
     ]
    }
   ],
   "source": [
    "labels = smdata['airline_sentiment']\n",
    "print(labels)"
   ]
  },
  {
   "cell_type": "code",
   "execution_count": null,
   "metadata": {
    "id": "Qqv-685FfUKO"
   },
   "outputs": [],
   "source": [
    "#labels=labels.replace({'negative':1,'neutral':2, 'positive':3})\n",
    "#labels = labels.astype('int')\n",
    "#print(labels)\n",
    "# Converting the lables to numbers didn't help the model performance."
   ]
  },
  {
   "cell_type": "code",
   "execution_count": null,
   "metadata": {
    "id": "rvSCojN_Wwi2"
   },
   "outputs": [],
   "source": [
    "# Split data into training and testing set.\n",
    "X_train, X_test, y_train, y_test = train_test_split(data_features, labels, test_size=0.3, random_state=42)"
   ]
  },
  {
   "cell_type": "code",
   "execution_count": null,
   "metadata": {
    "colab": {
     "base_uri": "https://localhost:8080/"
    },
    "id": "4eapBu03W49J",
    "outputId": "76576102-4c02-4c69-cf72-3fc04c86a543"
   },
   "outputs": [
    {
     "name": "stdout",
     "output_type": "stream",
     "text": [
      "RandomForestClassifier(bootstrap=True, ccp_alpha=0.0, class_weight=None,\n",
      "                       criterion='gini', max_depth=None, max_features='auto',\n",
      "                       max_leaf_nodes=None, max_samples=None,\n",
      "                       min_impurity_decrease=0.0, min_impurity_split=None,\n",
      "                       min_samples_leaf=1, min_samples_split=2,\n",
      "                       min_weight_fraction_leaf=0.0, n_estimators=200, n_jobs=4,\n",
      "                       oob_score=False, random_state=None, verbose=0,\n",
      "                       warm_start=False)\n",
      "0.7514725792992227\n"
     ]
    }
   ],
   "source": [
    "# Using Random Forest to build the model for the classification of reviews.\n",
    "# Also calculating the cross validation score.\n",
    "cvrforest = RandomForestClassifier(n_estimators=200, n_jobs=4)\n",
    "cvrforest = cvrforest.fit(X_train, y_train)\n",
    "print(cvrforest)\n",
    "print(np.mean(cross_val_score(cvrforest, data_features, labels, cv=10)))"
   ]
  },
  {
   "cell_type": "code",
   "execution_count": null,
   "metadata": {
    "colab": {
     "base_uri": "https://localhost:8080/"
    },
    "id": "uTCL48Fxr06Y",
    "outputId": "4217df5e-2080-4b05-8071-ee9d372db6e7"
   },
   "outputs": [
    {
     "name": "stdout",
     "output_type": "stream",
     "text": [
      "Best parameters are {'n_estimators': 200, 'min_samples_split': 6, 'min_samples_leaf': 1, 'criterion': 'gini'} with CV score=0.7680268692862595:\n"
     ]
    }
   ],
   "source": [
    "# Hyper parameter tuning for random forest for count vectorizer. \n",
    "cvrforest_tuned = RandomForestClassifier(random_state=1)\n",
    "# Random parameters to choose from\n",
    "param_grid = {'n_estimators': [10,25,50,100,125,150,175,200,225,250], \n",
    "              'criterion': ['gini'], \n",
    "              'min_samples_split': [2,3,4,5,6,7],\n",
    "              'min_samples_leaf': [1,2,3,4,5,6,7],\n",
    "              }\n",
    "              \n",
    "# Type of scoring used to compare parameter combinations\n",
    "acc_scorer = metrics.make_scorer(metrics.accuracy_score)\n",
    "\n",
    "random_cv = RandomizedSearchCV(estimator=cvrforest_tuned, param_distributions=param_grid, n_iter=50, scoring=acc_scorer, cv=10, random_state=1)\n",
    "\n",
    "#Fitting parameters in RandomizedSearchCV\n",
    "random_cv.fit(X_train,y_train)\n",
    "print(\"Best parameters are {} with CV score={}:\" .format(random_cv.best_params_,random_cv.best_score_))\n"
   ]
  },
  {
   "cell_type": "code",
   "execution_count": null,
   "metadata": {
    "colab": {
     "base_uri": "https://localhost:8080/"
    },
    "id": "TzvbdT7FLoKu",
    "outputId": "339ccb66-a573-4f86-e7e8-16ab94bc0467"
   },
   "outputs": [
    {
     "name": "stdout",
     "output_type": "stream",
     "text": [
      "RandomForestClassifier(bootstrap=True, ccp_alpha=0.0, class_weight=None,\n",
      "                       criterion='gini', max_depth=None, max_features='auto',\n",
      "                       max_leaf_nodes=None, max_samples=None,\n",
      "                       min_impurity_decrease=0.0, min_impurity_split=None,\n",
      "                       min_samples_leaf=1, min_samples_split=6,\n",
      "                       min_weight_fraction_leaf=0.0, n_estimators=200, n_jobs=4,\n",
      "                       oob_score=False, random_state=1, verbose=0,\n",
      "                       warm_start=False)\n",
      "0.7600330511096735\n"
     ]
    }
   ],
   "source": [
    "# Creating Count Vectorizer random forest with best parameters\n",
    "cvrforest_tuned = RandomForestClassifier(\n",
    "       random_state=1,\n",
    "       n_estimators    = 200,\n",
    "       criterion = 'gini',\n",
    "       min_samples_leaf = 1,\n",
    "       min_samples_split = 6,\n",
    "       n_jobs=4       )\n",
    "\n",
    "# Fit the model on training data\n",
    "cvrforest_tuned.fit(X_train, y_train)\n",
    "cvrforest_tuned = cvrforest_tuned.fit(X_train, y_train)\n",
    "print(cvrforest_tuned)\n",
    "print(np.mean(cross_val_score(cvrforest_tuned, data_features, labels, cv=10)))"
   ]
  },
  {
   "cell_type": "code",
   "execution_count": null,
   "metadata": {
    "id": "fg4dtCi6do6i"
   },
   "outputs": [],
   "source": [
    "# Predict the result for test data using the model built with count vectorizer and hyper parameter tuned random forest\n",
    "result = cvrforest_tuned.predict(X_test)\n"
   ]
  },
  {
   "cell_type": "code",
   "execution_count": null,
   "metadata": {
    "colab": {
     "base_uri": "https://localhost:8080/"
    },
    "id": "IvUyuZQQjG7d",
    "outputId": "956bb88e-c6a5-41aa-aa61-527b39ecac30"
   },
   "outputs": [
    {
     "name": "stdout",
     "output_type": "stream",
     "text": [
      "negative predictive occurrences 3151\n",
      "nuetral predictive occurrences 632\n",
      "postive predictive occurrences 598\n"
     ]
    }
   ],
   "source": [
    "# Checking the occurences of the predicted lables\n",
    "occurrences = np.count_nonzero(result == 'negative')\n",
    "print('negative predictive occurrences',occurrences)\n",
    "occurrences = np.count_nonzero(result == 'neutral')\n",
    "print('nuetral predictive occurrences',occurrences)\n",
    "occurrences = np.count_nonzero(result == 'positive')\n",
    "print('postive predictive occurrences',occurrences)\n"
   ]
  },
  {
   "cell_type": "code",
   "execution_count": null,
   "metadata": {
    "colab": {
     "base_uri": "https://localhost:8080/"
    },
    "id": "IogHvoXAkLjM",
    "outputId": "015811e7-69be-43fe-af7e-88ebe26bcd31"
   },
   "outputs": [
    {
     "name": "stdout",
     "output_type": "stream",
     "text": [
      "negative test occurrences 2765\n",
      "nuetral test occurrences 904\n",
      "postive test occurrences 712\n"
     ]
    }
   ],
   "source": [
    "# Checking the occurences of the test lables\n",
    "occurrences = np.count_nonzero(y_test == 'negative')\n",
    "print('negative test occurrences',occurrences)\n",
    "occurrences = np.count_nonzero(y_test == 'neutral')\n",
    "print('nuetral test occurrences',occurrences)\n",
    "occurrences = np.count_nonzero(y_test == 'positive')\n",
    "print('postive test occurrences',occurrences)"
   ]
  },
  {
   "cell_type": "code",
   "execution_count": null,
   "metadata": {
    "colab": {
     "base_uri": "https://localhost:8080/",
     "height": 501
    },
    "id": "sQlnVhLAYQQJ",
    "outputId": "7b022cb9-f985-43c3-89d0-8c100c9bde09"
   },
   "outputs": [
    {
     "name": "stdout",
     "output_type": "stream",
     "text": [
      "[[2552  146   67]\n",
      " [ 418  404   82]\n",
      " [ 181   82  449]]\n"
     ]
    },
    {
     "data": {
      "text/plain": [
       "<matplotlib.axes._subplots.AxesSubplot at 0x7f608e364f50>"
      ]
     },
     "execution_count": 41,
     "metadata": {
      "tags": []
     },
     "output_type": "execute_result"
    },
    {
     "data": {
      "image/png": "[encoded data removed]",
      "text/plain": [
       "<Figure size 720x504 with 2 Axes>"
      ]
     },
     "metadata": {
      "tags": []
     },
     "output_type": "display_data"
    }
   ],
   "source": [
    "# Building the confusion metrics to get better understanding about test results\n",
    "conf_mat = confusion_matrix(y_test, result)\n",
    "\n",
    "print(conf_mat)\n",
    "list_sentiment = ['negative','neutral','positive']\n",
    "\n",
    "df_cm = pd.DataFrame(conf_mat, index = [i for i in list_sentiment],\n",
    "                  columns = [i for i in list_sentiment])\n",
    "plt.figure(figsize = (10,7))\n",
    "sns.heatmap(df_cm, annot=True, fmt='g')"
   ]
  },
  {
   "cell_type": "markdown",
   "metadata": {
    "id": "to3JjUZvf57K"
   },
   "source": [
    "### Building the model based on TfidfVectorizer and Random Forest"
   ]
  },
  {
   "cell_type": "code",
   "execution_count": null,
   "metadata": {
    "colab": {
     "base_uri": "https://localhost:8080/"
    },
    "id": "l7FXHWXBdtVZ",
    "outputId": "f7975508-5207-450b-a948-2b8a5bdce12a"
   },
   "outputs": [
    {
     "data": {
      "text/plain": [
       "(14602, 1000)"
      ]
     },
     "execution_count": 42,
     "metadata": {
      "tags": []
     },
     "output_type": "execute_result"
    }
   ],
   "source": [
    "# Using TfidfVectorizer to convert text data to numbers.\n",
    "tvectorizer = TfidfVectorizer(max_features=1000)\n",
    "tdata_features = tvectorizer.fit_transform(smdata['text'])\n",
    "tdata_features = tdata_features.toarray()\n",
    "tdata_features.shape"
   ]
  },
  {
   "cell_type": "code",
   "execution_count": null,
   "metadata": {
    "id": "54OhyEiogKh1"
   },
   "outputs": [],
   "source": [
    "# Split data into training and testing set.\n",
    "X_train, X_test, y_train, y_test = train_test_split(tdata_features, labels, test_size=0.3, random_state=42)"
   ]
  },
  {
   "cell_type": "code",
   "execution_count": null,
   "metadata": {
    "colab": {
     "base_uri": "https://localhost:8080/"
    },
    "id": "q1HCKX2-j5R8",
    "outputId": "1be4d6d4-c737-4484-8949-a9398fb7b19e"
   },
   "outputs": [
    {
     "name": "stdout",
     "output_type": "stream",
     "text": [
      "RandomForestClassifier(bootstrap=True, ccp_alpha=0.0, class_weight=None,\n",
      "                       criterion='gini', max_depth=None, max_features='auto',\n",
      "                       max_leaf_nodes=None, max_samples=None,\n",
      "                       min_impurity_decrease=0.0, min_impurity_split=None,\n",
      "                       min_samples_leaf=1, min_samples_split=2,\n",
      "                       min_weight_fraction_leaf=0.0, n_estimators=200, n_jobs=4,\n",
      "                       oob_score=False, random_state=None, verbose=0,\n",
      "                       warm_start=False)\n",
      "0.7510620892051795\n"
     ]
    }
   ],
   "source": [
    "# Using Random Forest to build the model for the classification of reviews.\n",
    "# Also calculating the cross validation score.\n",
    "tvrforest = RandomForestClassifier(n_estimators=200, n_jobs=4)\n",
    "tvrforest = tvrforest.fit(X_train, y_train)\n",
    "print(tvrforest)\n",
    "print(np.mean(cross_val_score(tvrforest, data_features, labels, cv=10)))"
   ]
  },
  {
   "cell_type": "code",
   "execution_count": null,
   "metadata": {
    "colab": {
     "base_uri": "https://localhost:8080/"
    },
    "id": "Tf9Sg6ZIgO8y",
    "outputId": "4603b34a-8136-4e2a-dafd-6de93c42c66a"
   },
   "outputs": [
    {
     "name": "stdout",
     "output_type": "stream",
     "text": [
      "Best parameters are {'n_estimators': 125, 'min_samples_split': 2, 'min_samples_leaf': 1, 'criterion': 'gini'} with CV score=0.7686133795501892:\n"
     ]
    }
   ],
   "source": [
    "# Hyper parameter tuning for random forest for Tfidfvectorizer. \n",
    "tvrforest_tuned = RandomForestClassifier(random_state=1)\n",
    "\n",
    "# Random parameters to choose from\n",
    "param_grid = {'n_estimators': [10,25,50,100,125,150,175,200,225,250], \n",
    "              'criterion': ['gini'], \n",
    "              'min_samples_split': [2,3,4,5,6,7],\n",
    "              'min_samples_leaf': [1,2,3,4,5,6,7],\n",
    "              }\n",
    "              \n",
    "# Type of scoring used to compare parameter combinations\n",
    "acc_scorer = metrics.make_scorer(metrics.accuracy_score)\n",
    "\n",
    "random_cv = RandomizedSearchCV(estimator=tvrforest_tuned, param_distributions=param_grid, n_iter=50, scoring=acc_scorer, cv=10, random_state=1)\n",
    "\n",
    "#Fitting parameters in RandomizedSearchCV\n",
    "random_cv.fit(X_train,y_train)\n",
    "print(\"Best parameters are {} with CV score={}:\" .format(random_cv.best_params_,random_cv.best_score_))\n"
   ]
  },
  {
   "cell_type": "code",
   "execution_count": null,
   "metadata": {
    "colab": {
     "base_uri": "https://localhost:8080/"
    },
    "id": "Kw-l8PPK6Kdm",
    "outputId": "3f30fabd-aa66-40ad-95d7-24d985a62883"
   },
   "outputs": [
    {
     "name": "stdout",
     "output_type": "stream",
     "text": [
      "RandomForestClassifier(bootstrap=True, ccp_alpha=0.0, class_weight=None,\n",
      "                       criterion='gini', max_depth=None, max_features='auto',\n",
      "                       max_leaf_nodes=None, max_samples=None,\n",
      "                       min_impurity_decrease=0.0, min_impurity_split=None,\n",
      "                       min_samples_leaf=1, min_samples_split=2,\n",
      "                       min_weight_fraction_leaf=0.0, n_estimators=125, n_jobs=4,\n",
      "                       oob_score=False, random_state=1, verbose=0,\n",
      "                       warm_start=False)\n",
      "0.7584576617629134\n"
     ]
    }
   ],
   "source": [
    "# Creating Tfidf Vectorizer random forest with best parameters\n",
    "tvrforest_tuned = RandomForestClassifier(\n",
    "       random_state=1,\n",
    "       n_estimators    = 125,\n",
    "       criterion = 'gini',\n",
    "       min_samples_leaf = 1,\n",
    "       min_samples_split = 2,\n",
    "       n_jobs=4 )\n",
    "\n",
    "# Fit the model on training data\n",
    "tvrforest_tuned.fit(X_train, y_train)\n",
    "tvrforest_tuned = tvrforest_tuned.fit(X_train, y_train)\n",
    "print(tvrforest_tuned)\n",
    "print(np.mean(cross_val_score(tvrforest_tuned, tdata_features, labels, cv=10)))"
   ]
  },
  {
   "cell_type": "code",
   "execution_count": null,
   "metadata": {
    "id": "IWDj4tr5nxxL"
   },
   "outputs": [],
   "source": [
    "# Predict the result for test data using the model built with count vectorizer and hyper parameter tuned random forest\n",
    "tresult = tvrforest_tuned.predict(X_test)"
   ]
  },
  {
   "cell_type": "code",
   "execution_count": null,
   "metadata": {
    "colab": {
     "base_uri": "https://localhost:8080/",
     "height": 501
    },
    "id": "Uk90DLaXoGgm",
    "outputId": "3f87f976-3ad6-4e38-c572-f212cb51fce8"
   },
   "outputs": [
    {
     "name": "stdout",
     "output_type": "stream",
     "text": [
      "[[2576  132   57]\n",
      " [ 397  420   87]\n",
      " [ 203   93  416]]\n"
     ]
    },
    {
     "data": {
      "text/plain": [
       "<matplotlib.axes._subplots.AxesSubplot at 0x7f608e2cd510>"
      ]
     },
     "execution_count": 47,
     "metadata": {
      "tags": []
     },
     "output_type": "execute_result"
    },
    {
     "data": {
      "image/png": "[encoded data removed]",
      "text/plain": [
       "<Figure size 720x504 with 2 Axes>"
      ]
     },
     "metadata": {
      "tags": []
     },
     "output_type": "display_data"
    }
   ],
   "source": [
    "# Building confusion metrics for to get better understanding about test results\n",
    "conf_mat = confusion_matrix(y_test, tresult)\n",
    "\n",
    "print(conf_mat)\n",
    "list_sentiment = ['negative','neutral','positive']\n",
    "\n",
    "df_cm = pd.DataFrame(conf_mat, index = [i for i in list_sentiment],\n",
    "                  columns = [i for i in list_sentiment])\n",
    "plt.figure(figsize = (10,7))\n",
    "sns.heatmap(df_cm, annot=True, fmt='g')"
   ]
  },
  {
   "cell_type": "markdown",
   "metadata": {
    "id": "-nWyS9_KU31j"
   },
   "source": [
    "## Project Summary\n",
    "* Dropped all the columns from the dataset except text and airline_sentiment fields.\n",
    "* Airine sentiment has 3 types of categories which are negative, nuetral and positive. \n",
    "* There are more than 9000+ negative sentiment review data points.\n",
    "* The goal was to build a model for text-classification.\n",
    "* During preprocessing applied below techniques to improve the performance.\n",
    "  * Removed the html tags,\n",
    "  * Apply the contractions for the model to understand better.\n",
    "  * Remove numbers if there are any.\n",
    "  * Tokenization of words.\n",
    "  * Removed Special Characters and Punctuations.\n",
    "  * Convert the text to lower case.\n",
    "  * Removed the stop words by retaining the custom list which are required for the model to perform good for negative reviews.\n",
    "  * Removed the Airlines names from the text field, hence these are not usefull for the model.\n",
    "  * Removed the ASCII Characters, if there are any in the text.\n",
    "  * Apply the Lemmatizer to convert the words to more meaningfull words.\n",
    "  * As a last step joined all the words to form the string for the text field.\n",
    "* After preprocessing there are 17 records with zero char length and 21 records with 2 char length for the text filed.\n",
    "* Removed the datapoints that has text of length zero and 2 to get better performance of the model.\n",
    "* Split the data into train and test with 30% split.\n",
    "* Count Vectorizer process\n",
    "   * Used the count Vectorizer to convert the text to array.\n",
    "   * Built the model by using random forest classifier with default parameters.\n",
    "   * Model has given overall accuracy of 75%.\n",
    "   * By using Random serach performed the hyper parameter tuning to get the better parameters for the model to fit.\n",
    "   * Fit the fine tuned model and had given overall accuracy of 76%\n",
    "   * Built the confusion metric on test data to check further about the model performance.\n",
    "      * Tuned Random forest model predicted 2552 reviews as negative correctly and predicted 146 as neutral and 67 as positive which suppose to predict them as Negative reviews.\n",
    "      * Predicted 404 as neutral correctly and predicted 418 as negative and 82 as positive , which suppose to predict them as neutral reviews.    \n",
    "      * Predicted 449 as positive correctly and 181 as negative and 82 as neutral which suppose to be predicted as positive reviews.\n",
    "* TF-IDF Vectorizer process\n",
    "   * Used the TF-IDF Vectorizer to convert the text to array.\n",
    "   * Built the model by using random forest classifier with default parameters.\n",
    "   * Model has given overall accuracy of 74.9%.\n",
    "   * By using Random serach performed the hyper parameter tuning to get the better parameters for the model to fit.\n",
    "   * Fit the fine tuned model and had given overall accuracy of 75.8%\n",
    "   * Build the confusion metrics on test data to check further about the model performance.\n",
    "      * Tuned Random forest model predicted 2576 reviews as negative correctly and predicted 132 as neutral and 57 as positive which suppose to predict them as Negative reviews.\n",
    "      * Predicted 420 as neutral correctly and predicted 397 as negative and 87 as positive , which suppose to predict them as neutral reviews.    \n",
    "      * Predicted 416 as positive correctly and 203 as negative and 93 as neutral which suppose to be predicted as positive reviews.\n",
    "* Count vectorizer process model performed little better than the TF-IDF vectorizer on model accuracy score.\n",
    "* Overall model performed well on Negative and postive reviews than compared to nuetral reviews.\n",
    "* However, we can still increase the accuracy of our model by performing these\n",
    "  *  Improve the model to perform better on Neutral reviews.\n",
    "  *  Apply different sequentials models like RNN to check further about improving the overall performance of the model.\n",
    "\n"
   ]
  }
 ],
 "metadata": {
  "colab": {
   "collapsed_sections": [],
   "name": "US_Airlines_Sentiment_Analysis.ipynb",
   "provenance": []
  },
  "kernelspec": {
   "display_name": "Python 3",
   "language": "python",
   "name": "python3"
  },
  "language_info": {
   "codemirror_mode": {
    "name": "ipython",
    "version": 3
   },
   "file_extension": ".py",
   "mimetype": "text/x-python",
   "name": "python",
   "nbconvert_exporter": "python",
   "pygments_lexer": "ipython3",
   "version": "3.8.3"
  }
 },
 "nbformat": 4,
 "nbformat_minor": 1
}
